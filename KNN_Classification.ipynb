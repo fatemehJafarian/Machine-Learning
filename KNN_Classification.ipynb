{
  "nbformat": 4,
  "nbformat_minor": 0,
  "metadata": {
    "colab": {
      "name": "4.ipynb",
      "provenance": [],
      "collapsed_sections": []
    },
    "kernelspec": {
      "name": "python3",
      "display_name": "Python 3"
    }
  },
  "cells": [
    {
      "cell_type": "code",
      "metadata": {
        "id": "_Ocqforq-xk9",
        "outputId": "b7a28519-ce7a-4e11-dc25-e95af9848911",
        "colab": {
          "base_uri": "https://localhost:8080/"
        }
      },
      "source": [
        "from google.colab import drive\n",
        "drive.mount('/content/drive')"
      ],
      "execution_count": 7,
      "outputs": [
        {
          "output_type": "stream",
          "text": [
            "Drive already mounted at /content/drive; to attempt to forcibly remount, call drive.mount(\"/content/drive\", force_remount=True).\n"
          ],
          "name": "stdout"
        }
      ]
    },
    {
      "cell_type": "code",
      "metadata": {
        "id": "EYETIZOVBZsP"
      },
      "source": [
        "import pandas as pd\n",
        "import numpy as np"
      ],
      "execution_count": 8,
      "outputs": []
    },
    {
      "cell_type": "code",
      "metadata": {
        "id": "NfJHmpyi4zF7"
      },
      "source": [
        "test_data = pd.read_csv('/content/drive/My Drive/Test/4/test_data.csv', header = None)\n",
        "test_label = pd.read_csv('/content/drive/My Drive/Test/4/test_labels.csv', header = None)\n",
        "train_data = pd.read_csv('/content/drive/My Drive/Test/4/train_data.csv', header = None)\n",
        "train_label = pd.read_csv('/content/drive/My Drive/Test/4/train_labels.csv', header = None)"
      ],
      "execution_count": 9,
      "outputs": []
    },
    {
      "cell_type": "code",
      "metadata": {
        "id": "qOUugxW56Vrx"
      },
      "source": [
        "test_data_np = test_data.to_numpy()\n",
        "test_label_np = test_label.to_numpy()\n",
        "train_data_np = train_data.to_numpy()\n",
        "train_label_np = train_label.to_numpy()"
      ],
      "execution_count": 10,
      "outputs": []
    },
    {
      "cell_type": "code",
      "metadata": {
        "id": "RV6bq1PRShR3"
      },
      "source": [
        "#calculating distaces\n",
        "dim1 = train_data_np.shape\n",
        "dim2 = test_data_np.shape\n",
        "distance_to_neighbors = np.zeros((dim2[0], dim1[0]))\n",
        "for i in range(dim2[0]):\n",
        "  for j in range(dim1[0]):\n",
        "    distance_to_neighbors[i][j] = np.inner((test_data_np[i]-train_data_np[j]), (test_data_np[i]-train_data_np[j]))\n",
        "  distance_to_neighbors[i] = np.sqrt(distance_to_neighbors[i])"
      ],
      "execution_count": 11,
      "outputs": []
    },
    {
      "cell_type": "code",
      "metadata": {
        "id": "yrH0V79iG4uq"
      },
      "source": [
        "def Classify(test_data_np, train_data_np, train_label_np, K, d):\n",
        "  dim = test_data_np.shape\n",
        "  indx = np.zeros((dim[0], K))\n",
        "  predicted_labels = np.zeros((dim[0], 1))\n",
        "  for i in range(dim[0]):\n",
        "    temp = np.argpartition(d[i], K)\n",
        "    indx[i] = temp[0:K]\n",
        "  for i in range(dim[0]):\n",
        "    for j in range(K):\n",
        "      indx[i][j] = int(train_label_np[int(indx[i][j])])\n",
        "  for i in range(dim[0]):\n",
        "    predicted_labels[i] = np.bincount((indx[i]).astype(int)).argmax()\n",
        "  return predicted_labels"
      ],
      "execution_count": 17,
      "outputs": []
    },
    {
      "cell_type": "code",
      "metadata": {
        "id": "qh5Fff4EWBwG"
      },
      "source": [
        "def Accuracy(predicted_labeles, test_label_np):\n",
        "  dim = test_label_np.shape\n",
        "  count = 0\n",
        "  for i in range(dim[0]):\n",
        "    if (predicted_labeles[i] == test_label_np[i]):\n",
        "      count += 1\n",
        "  return count"
      ],
      "execution_count": 18,
      "outputs": []
    },
    {
      "cell_type": "code",
      "metadata": {
        "id": "WpYCt2QMXJpR",
        "outputId": "960c81aa-14b1-48bd-de3f-d25aaac65cce",
        "colab": {
          "base_uri": "https://localhost:8080/"
        }
      },
      "source": [
        "K = [1, 2, 5, 10, 50, 1000]\n",
        "dim = test_data_np.shape\n",
        "count = []\n",
        "for i in K:\n",
        "  predicted_labels = Classify(test_data_np, train_data_np, train_label_np, i, distance_to_neighbors)\n",
        "  count.append(Accuracy(predicted_labels, test_label_np))\n",
        "for i in range(6):\n",
        "  print('K is ', K[i], ' -->   Accuracy is: ', count[i]/dim[0])"
      ],
      "execution_count": 28,
      "outputs": [
        {
          "output_type": "stream",
          "text": [
            "K is  1  -->   Accuracy is:  0.17285714285714285\n",
            "K is  2  -->   Accuracy is:  0.14314285714285716\n",
            "K is  5  -->   Accuracy is:  0.144\n",
            "K is  10  -->   Accuracy is:  0.1382857142857143\n",
            "K is  50  -->   Accuracy is:  0.14285714285714285\n",
            "K is  1000  -->   Accuracy is:  0.12971428571428573\n"
          ],
          "name": "stdout"
        }
      ]
    },
    {
      "cell_type": "markdown",
      "metadata": {
        "id": "CUHHdommj9Bu"
      },
      "source": [
        "4.b) According to values of accuracy the best choice for k is 5. We can see for large k's accuracy decreases.\n",
        "Generally large k's are expensive and small ones result in higher influence of noise."
      ]
    },
    {
      "cell_type": "code",
      "metadata": {
        "id": "LPCw2UXOYtG2"
      },
      "source": [
        "d1 = np.zeros((dim2[0], dim1[0]))\n",
        "for i in range(dim2[0]):\n",
        "  for j in range(dim1[0]):\n",
        "    temp = np.absolute((test_data_np[i]-train_data_np[j]))\n",
        "    d1[i][j] = np.amax(temp)"
      ],
      "execution_count": 24,
      "outputs": []
    },
    {
      "cell_type": "code",
      "metadata": {
        "id": "nyRr9JKHTULs",
        "outputId": "af18b3b3-4edd-49b5-c1be-5ea49201d1e8",
        "colab": {
          "base_uri": "https://localhost:8080/"
        }
      },
      "source": [
        "predicted_labels1 = Classify(test_data_np, train_data_np, train_label_np, 5, d1)\n",
        "Accuracy(predicted_labels1, test_label_np)/dim[0]"
      ],
      "execution_count": 25,
      "outputs": [
        {
          "output_type": "execute_result",
          "data": {
            "text/plain": [
              "0.094"
            ]
          },
          "metadata": {
            "tags": []
          },
          "execution_count": 25
        }
      ]
    },
    {
      "cell_type": "code",
      "metadata": {
        "id": "a1Hxbmj6Wjbu"
      },
      "source": [
        "d2 = np.zeros((dim2[0], dim1[0]))\n",
        "for i in range(dim2[0]):\n",
        "  for j in range(dim1[0]):\n",
        "    d2[i][j] = np.sum(np.absolute((test_data_np[i]-train_data_np[j])))"
      ],
      "execution_count": 26,
      "outputs": []
    },
    {
      "cell_type": "code",
      "metadata": {
        "id": "-zPGVhZ3W34V",
        "outputId": "ce8dbdf9-e091-42d7-f4f2-2cca3ca7e040",
        "colab": {
          "base_uri": "https://localhost:8080/"
        }
      },
      "source": [
        "predicted_labels2 = Classify(test_data_np, train_data_np, train_label_np, 5, d2)\n",
        "Accuracy(predicted_labels2, test_label_np)/dim[0]"
      ],
      "execution_count": 27,
      "outputs": [
        {
          "output_type": "execute_result",
          "data": {
            "text/plain": [
              "0.3891428571428571"
            ]
          },
          "metadata": {
            "tags": []
          },
          "execution_count": 27
        }
      ]
    },
    {
      "cell_type": "markdown",
      "metadata": {
        "id": "ZdVSRdOuk81d"
      },
      "source": [
        "Normalizing data can increase accuracy."
      ]
    }
  ]
}
