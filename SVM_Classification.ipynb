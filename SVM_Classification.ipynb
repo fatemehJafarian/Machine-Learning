{
  "nbformat": 4,
  "nbformat_minor": 0,
  "metadata": {
    "colab": {
      "name": "3.ipynb",
      "provenance": [],
      "collapsed_sections": []
    },
    "kernelspec": {
      "name": "python3",
      "display_name": "Python 3"
    }
  },
  "cells": [
    {
      "cell_type": "code",
      "metadata": {
        "id": "aNas85FRhUGt",
        "outputId": "7be5c055-fbe1-411a-f0ab-798a1226d9c8",
        "colab": {
          "base_uri": "https://localhost:8080/"
        }
      },
      "source": [
        "from google.colab import drive\n",
        "drive.mount('/content/drive')"
      ],
      "execution_count": 66,
      "outputs": [
        {
          "output_type": "stream",
          "text": [
            "Drive already mounted at /content/drive; to attempt to forcibly remount, call drive.mount(\"/content/drive\", force_remount=True).\n"
          ],
          "name": "stdout"
        }
      ]
    },
    {
      "cell_type": "code",
      "metadata": {
        "id": "Ii20DnSUhp9e"
      },
      "source": [
        "import pandas as pd\n",
        "import numpy as np\n",
        "import matplotlib.pyplot as plt"
      ],
      "execution_count": 67,
      "outputs": []
    },
    {
      "cell_type": "code",
      "metadata": {
        "id": "yiieVhO7iG0v"
      },
      "source": [
        "mnist_test_data = pd.read_csv('/content/drive/My Drive/Test/3/mnist_test.csv', header = None, skiprows = 1, usecols = range(1, 785))\n",
        "mnist_test_label = pd.read_csv('/content/drive/My Drive/Test/3/mnist_test.csv', header = None, skiprows = 1, usecols = range(0, 1))\n",
        "mnist_train_data = pd.read_csv('/content/drive/My Drive/Test/3/mnist_train.csv', header = None, skiprows = 1, usecols = range(1, 785))\n",
        "mnist_train_label = pd.read_csv('/content/drive/My Drive/Test/3/mnist_train.csv', header = None, skiprows = 1, usecols = range(0, 1))"
      ],
      "execution_count": 68,
      "outputs": []
    },
    {
      "cell_type": "code",
      "metadata": {
        "id": "m1upn2FLindE"
      },
      "source": [
        "mnist_test_data_np = mnist_test_data.to_numpy()\n",
        "mnist_test_label_np = mnist_test_label.to_numpy()\n",
        "mnist_train_data_np = mnist_train_data.to_numpy()\n",
        "mnist_train_label_np = mnist_train_label.to_numpy()"
      ],
      "execution_count": 69,
      "outputs": []
    },
    {
      "cell_type": "code",
      "metadata": {
        "id": "X_ejrRO4labr"
      },
      "source": [
        "train_label = np.zeros(60000)\n",
        "for i in range(60000):\n",
        "  if (mnist_train_label_np[i] == 0):\n",
        "    train_label[i] = 1\n",
        "  else:\n",
        "    train_label[i] = -1"
      ],
      "execution_count": 70,
      "outputs": []
    },
    {
      "cell_type": "code",
      "metadata": {
        "id": "LLLWD_Picwg5"
      },
      "source": [
        "test_label = np.zeros(10000)\n",
        "for i in range(10000):\n",
        "  if (mnist_test_label_np[i] == 0):\n",
        "    test_label[i] = 1\n",
        "  else:\n",
        "    test_label[i] = -1"
      ],
      "execution_count": 75,
      "outputs": []
    },
    {
      "cell_type": "code",
      "metadata": {
        "id": "DnphUVQ0i3Gq"
      },
      "source": [
        "def Loss_Gradient(w, x, landa, y, n, b):\n",
        "  res = np.multiply(2, landa)\n",
        "  res = np.multiply(res, w)\n",
        "  if (max(0, (1 - np.multiply(y, (np.dot(np.transpose(w), x) - b))) == 0)):\n",
        "    return res\n",
        "  else:\n",
        "    return (res - np.multiply(x, y/n))"
      ],
      "execution_count": 76,
      "outputs": []
    },
    {
      "cell_type": "code",
      "metadata": {
        "id": "qJpmQ0AtGhts"
      },
      "source": [
        "def Weight(w, eta, loss_gradient):\n",
        "  return (w - np.multiply(eta, loss_gradient))"
      ],
      "execution_count": 77,
      "outputs": []
    },
    {
      "cell_type": "code",
      "metadata": {
        "id": "FMX5TacFZMsM"
      },
      "source": [
        "def Bias(x, y, w):\n",
        "  return (np.dot(np.transpose(w), x) - (1/y))"
      ],
      "execution_count": 30,
      "outputs": []
    },
    {
      "cell_type": "code",
      "metadata": {
        "id": "2eEXOVVXhKBc"
      },
      "source": [
        "def Train(D, D_label, w, eta, n, landa):\n",
        "  dim = D.shape\n",
        "  b = Bias(D[0], D_label[0], w)\n",
        "  for i in range(dim[0]):\n",
        "    b = Bias(D[i], D_label[i], w)\n",
        "    loss_gradient = Loss_Gradient(w, D[i], landa, D_label[i], n, b)\n",
        "    w = Weight(w, eta, loss_gradient)\n",
        "  return (w, b)"
      ],
      "execution_count": 51,
      "outputs": []
    },
    {
      "cell_type": "code",
      "metadata": {
        "id": "wNBx_YP8Uh-o"
      },
      "source": [
        "def Test(D, w, b):\n",
        "  predicted_labels = []\n",
        "  for i in range((D.shape)[0]):\n",
        "    predicted_labels.append(np.dot(np.transpose(w), D[i]) - b)\n",
        "  return predicted_labels"
      ],
      "execution_count": 32,
      "outputs": []
    },
    {
      "cell_type": "code",
      "metadata": {
        "id": "84tane69aTFe"
      },
      "source": [
        "def Accuracy(predicted_labels, labels):\n",
        "  count = 0\n",
        "  dim = labels.shape\n",
        "  for i in range(dim[0]):\n",
        "    if (predicted_labels[i] > labels[i]):\n",
        "      count += 1\n",
        "  count = count / dim[0]\n",
        "  return count"
      ],
      "execution_count": 98,
      "outputs": []
    },
    {
      "cell_type": "code",
      "metadata": {
        "id": "j4N05yb7VedJ"
      },
      "source": [
        "def Cross_Validation(D, D_label, landa, w, eta):\n",
        "  accuracy = 0\n",
        "  D_train = D\n",
        "  D_label1 = D_label\n",
        "  temp = np.array(range(6000))\n",
        "  for i in range(10):\n",
        "    D_train = np.delete(D, 6000*i + temp, 0)\n",
        "    D_label1 = np.delete(D_label, 6000*i + temp, 0)\n",
        "    w, b = Train(D_train, D_label1, w, eta, 54000, landa)\n",
        "    predicted_labels = Test(D[6000*i:(6000*(i+1))], w, b)\n",
        "    accuracy += Accuracy(predicted_labels, D_label[6000*i:6000*i+6000])\n",
        "  return accuracy"
      ],
      "execution_count": 34,
      "outputs": []
    },
    {
      "cell_type": "code",
      "metadata": {
        "id": "WrqfJLX1ncaV"
      },
      "source": [
        "mu = 0\n",
        "sigma = 0.1\n",
        "eta = 0.01\n",
        "w = np.random.normal(mu, sigma, 28*28)\n",
        "landa = np.array([pow(10, -10), pow(10, -8), pow(10, -6), pow(10, -4), pow(10, -2), 1])"
      ],
      "execution_count": 43,
      "outputs": []
    },
    {
      "cell_type": "code",
      "metadata": {
        "id": "_Nan6DloHZZr",
        "outputId": "ac463f75-54a2-4a65-81ed-86768242ccdb",
        "colab": {
          "base_uri": "https://localhost:8080/"
        }
      },
      "source": [
        "accuracy = []\n",
        "for i in landa:\n",
        "  accuracy.append(Cross_Validation(np.array(mnist_train_data_np), train_label, i, w, eta))\n",
        "res = np.amax(accuracy)\n",
        "print(accuracy)\n",
        "print(res)"
      ],
      "execution_count": 44,
      "outputs": [
        {
          "output_type": "stream",
          "text": [
            "[9.213333333333333, 9.2215, 9.212166666666667, 9.141833333333334, 0.5575, 3.5163333333333338]\n",
            "9.2215\n"
          ],
          "name": "stdout"
        }
      ]
    },
    {
      "cell_type": "markdown",
      "metadata": {
        "id": "rN7VdaSTrUdl"
      },
      "source": [
        "As we can see landa = pow(10, -8) has the best accuracy."
      ]
    },
    {
      "cell_type": "code",
      "metadata": {
        "id": "fTJjC1-heqP3"
      },
      "source": [
        "def Loss(x, y, landa, w, b, n):\n",
        "  res = (np.multiply(np.inner(w, w), landa))\n",
        "  for i in range(n):\n",
        "    res += np.multiply(n, max(0, (1 - np.multiply(y[i], (np.dot(np.transpose(w), x[i]) - b)))))\n",
        "  return res"
      ],
      "execution_count": 92,
      "outputs": []
    },
    {
      "cell_type": "code",
      "metadata": {
        "id": "OG-dRlVZATzx"
      },
      "source": [
        "mu = 0\n",
        "sigma = 0.1\n",
        "eta = 0.01\n",
        "w = np.random.normal(mu, sigma, 28*28)\n",
        "loss_sgd = np.zeros(10)\n",
        "train_accuracy = np.zeros(10)\n",
        "test_accuracy = np.zeros(10)\n",
        "for i in range(10):\n",
        "  w , b = Train(mnist_train_data_np[i:(i+1)*6000], train_label[i:(i+1)*6000], w, eta, 6000, landa[1])\n",
        "  predicted_train_labels = Test(mnist_train_data_np, w, b)\n",
        "  loss_sgd[i] = Loss(mnist_train_data_np[0:(i+1)*6000], train_label[0:(i+1)*6000], landa[0], w, b, (i+1)*6000)\n",
        "  predicted_test_labels = Test(mnist_test_data_np, w, b)\n",
        "  test_accuracy[i] = Accuracy(predicted_test_labels, test_label)\n",
        "  train_accuracy[i] = Accuracy(predicted_train_labels, train_label)"
      ],
      "execution_count": 99,
      "outputs": []
    },
    {
      "cell_type": "code",
      "metadata": {
        "id": "GAFqp3QYqIDZ",
        "outputId": "93aec689-1736-4c97-f5ce-cb136f26bdf3",
        "colab": {
          "base_uri": "https://localhost:8080/",
          "height": 295
        }
      },
      "source": [
        "plt.title(\"SGD Loss\") \n",
        "plt.xlabel(\"epoch\") \n",
        "plt.ylabel(\"loss\") \n",
        "plt.plot(range(10), loss_sgd) \n",
        "plt.show()"
      ],
      "execution_count": 100,
      "outputs": [
        {
          "output_type": "display_data",
          "data": {
            "image/png": "[encoded data removed]",
            "text/plain": [
              "<Figure size 432x288 with 1 Axes>"
            ]
          },
          "metadata": {
            "tags": [],
            "needs_background": "light"
          }
        }
      ]
    },
    {
      "cell_type": "code",
      "metadata": {
        "id": "HD4AESf_oih0",
        "outputId": "ba7898f6-7f1f-4b60-b378-42f7b3ae4f1a",
        "colab": {
          "base_uri": "https://localhost:8080/",
          "height": 295
        }
      },
      "source": [
        "plt.title(\"SGD Test Accuracy\") \n",
        "plt.xlabel(\"epoch\") \n",
        "plt.ylabel(\"Accuracy\") \n",
        "plt.plot(range(10), test_accuracy) \n",
        "plt.show()"
      ],
      "execution_count": 101,
      "outputs": [
        {
          "output_type": "display_data",
          "data": {
            "image/png": "[encoded data removed]",
            "text/plain": [
              "<Figure size 432x288 with 1 Axes>"
            ]
          },
          "metadata": {
            "tags": [],
            "needs_background": "light"
          }
        }
      ]
    },
    {
      "cell_type": "code",
      "metadata": {
        "id": "93uSatUvqem4",
        "outputId": "2a17d739-2629-44ed-f88a-48f19a2cf440",
        "colab": {
          "base_uri": "https://localhost:8080/",
          "height": 295
        }
      },
      "source": [
        "plt.title(\"SGD Train Accuracy\") \n",
        "plt.xlabel(\"epoch\") \n",
        "plt.ylabel(\"Accyracy\") \n",
        "plt.plot(range(10), train_accuracy) \n",
        "plt.show()"
      ],
      "execution_count": 97,
      "outputs": [
        {
          "output_type": "display_data",
          "data": {
            "image/png": "[encoded data removed]",
            "text/plain": [
              "<Figure size 432x288 with 1 Axes>"
            ]
          },
          "metadata": {
            "tags": [],
            "needs_background": "light"
          }
        }
      ]
    }
  ]
}
